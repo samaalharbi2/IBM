{
  "metadata": {
    "kernelspec": {
      "name": "python",
      "display_name": "Python (Pyodide)",
      "language": "python"
    },
    "language_info": {
      "codemirror_mode": {
        "name": "python",
        "version": 3
      },
      "file_extension": ".py",
      "mimetype": "text/x-python",
      "name": "python",
      "nbconvert_exporter": "python",
      "pygments_lexer": "ipython3",
      "version": "3.8"
    }
  },
  "nbformat_minor": 4,
  "nbformat": 4,
  "cells": [
    {
      "cell_type": "markdown",
      "source": "Data Science Tools and Ecosystem\n\nIn this notebook, Data Science Tools and Ecosystem are summarized.",
      "metadata": {}
    },
    {
      "cell_type": "markdown",
      "source": "  ــObjectivesــ:\n\n* List popular languages that Data Scientists use.\n* List commonly used libraries used by Data Scientists.\n* Comment on Data Science tools.",
      "metadata": {}
    },
    {
      "cell_type": "code",
      "source": "Some of the popular languages that Data Scientists use are:\n\nPython.\nR.\nSQL.\nJava.\nJulia.\nScala.\nC/C++.\nJavaScript.",
      "metadata": {
        "trusted": true
      },
      "outputs": [],
      "execution_count": null
    },
    {
      "cell_type": "code",
      "source": "Some of the commonly used libraries used by Data Scientists include:\n\nTensorFlow.\nNumPy.\nSciPy.\nPandas.\nMatplotlib.\nKeras.\nSciKit-Learn.\nPyTorch.\nScrapy.\nBeautifulSoup.\nLightGBM.\nELI5.\nTheano.\nNuPIC.\nRamp.\nPipenv.\nBob.\nPyBrain.\nCaffe2.\nChainer.",
      "metadata": {
        "trusted": true
      },
      "outputs": [],
      "execution_count": null
    },
    {
      "cell_type": "markdown",
      "source": "Data Science Tools:\n\n         Data Science Tools\t\t\nSAS. It is one of those data science tools which are specifically \ndesigned for statistical operation\t\t\n\nApache Spark\t\t\nBigML",
      "metadata": {}
    },
    {
      "cell_type": "code",
      "source": "# Arithmetic operations\ncode = compile(\"5 + 4\", \"<string>\", \"eval\")\neval(code)\n# Result: 9",
      "metadata": {
        "trusted": true
      },
      "outputs": [
        {
          "execution_count": 1,
          "output_type": "execute_result",
          "data": {
            "text/plain": "9"
          },
          "metadata": {}
        }
      ],
      "execution_count": 1
    },
    {
      "cell_type": "code",
      "source": "code1 = compile(\"(5 + 7) * 2\", \"<string>\", \"eval\")\neval(code1)\n# Result: 24",
      "metadata": {
        "trusted": true
      },
      "outputs": [
        {
          "execution_count": 2,
          "output_type": "execute_result",
          "data": {
            "text/plain": "24"
          },
          "metadata": {}
        }
      ],
      "execution_count": 2
    },
    {
      "cell_type": "code",
      "source": "import math\n# Volume of a sphere\ncode2 = compile(\"4 / 3 * math.pi * math.pow(25, 3)\", \"<string>\", \"eval\")\neval(code2)\n# Result: 65449.84694978735",
      "metadata": {
        "trusted": true
      },
      "outputs": [
        {
          "execution_count": 3,
          "output_type": "execute_result",
          "data": {
            "text/plain": "65449.84694978735"
          },
          "metadata": {}
        }
      ],
      "execution_count": 3
    },
    {
      "cell_type": "markdown",
      "source": "Exercise 8",
      "metadata": {}
    },
    {
      "cell_type": "code",
      "source": "(3*4)+5\n# Result: 17",
      "metadata": {
        "trusted": true
      },
      "outputs": [
        {
          "execution_count": 1,
          "output_type": "execute_result",
          "data": {
            "text/plain": "17"
          },
          "metadata": {}
        }
      ],
      "execution_count": 1
    },
    {
      "cell_type": "code",
      "source": "days = 0\nhours = 0\nmins = 0\n\ntime = 200\n#days = time / 1440\nleftover_minutes = time % 1440\nhours = leftover_minutes / 60\n#mins = time - (days*1440) - (hours*60)\nprint(str(days) + \" days, \" + str(hours) + \" hours, \" + str(mins) +  \" mins. \")\n\n# Result: 3.3333333333333335 hours",
      "metadata": {
        "trusted": true
      },
      "outputs": [
        {
          "name": "stdout",
          "text": "0 days, 3.3333333333333335 hours, 0 mins. \n",
          "output_type": "stream"
        }
      ],
      "execution_count": 5
    },
    {
      "cell_type": "markdown",
      "source": "## Author:\nSama Alwafi",
      "metadata": {}
    },
    {
      "cell_type": "code",
      "source": "",
      "metadata": {
        "trusted": true
      },
      "outputs": [],
      "execution_count": null
    }
  ]
}